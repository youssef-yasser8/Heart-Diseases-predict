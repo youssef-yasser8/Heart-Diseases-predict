{
 "cells": [
  {
   "cell_type": "code",
   "execution_count": 54,
   "id": "c2d5c5f9-769f-41ef-b447-1801f5bbcbcc",
   "metadata": {},
   "outputs": [],
   "source": [
    "import streamlit as st"
   ]
  },
  {
   "cell_type": "code",
   "execution_count": 61,
   "id": "f3f351d0-e58c-4b08-bd0c-ae472c750a79",
   "metadata": {},
   "outputs": [
    {
     "name": "stdout",
     "output_type": "stream",
     "text": [
      "Overwriting loan_app.py\n"
     ]
    }
   ],
   "source": [
    "%%writefile loan_app.py\n",
    "import sklearn\n",
    "import pandas as pd\n",
    "import numpy as np\n",
    "import streamlit as st\n",
    "import joblib\n",
    "from imblearn.under_sampling import RandomUnderSampler\n",
    "from imblearn.pipeline import Pipeline as imblearn_pipeline\n",
    "from sklearn.compose import ColumnTransformer\n",
    "from sklearn.preprocessing import FunctionTransformer, StandardScaler, OrdinalEncoder\n",
    "def get_input():    \n",
    "    male = st.selectbox(\"select gender [1 for male o for female]\",options=[1,0])\n",
    "    age=st.slider(\"select Age\" , min_value=32 , max_value= 70 , value=40)\n",
    "    education=st.selectbox(\"select education level [1 for male o for female]\",options=[1,2,3,4])\n",
    "    currentSmoker=st.selectbox(\"if you currently smoke chosse 1\",options=[0,1])\n",
    "    cigsPerDay=st.slider(\"select number of cigarettes per day if you smoke if not select 0  \" , min_value=0 , max_value= 60 , value=20)\n",
    "    BPMeds=st.selectbox(\"if you take BPMeds choose 1\",options=[0,1])\n",
    "    prevalentStroke=st.selectbox(\"if you had prevalentStroke choose 1\",options=[0,1])\n",
    "    prevalentHyp=st.selectbox(\"if you had prevalentHyp choose 1\",options=[0,1])\n",
    "    diabetes=st.selectbox(\"if you have diabetes choose 1\",options=[0,1])\n",
    "    totChol=st.slider(\"select totChol\" , min_value=107 , max_value= 600 , value=300)\n",
    "    sysBP = st.slider(\"select Systolic Blood Pressure\", min_value=83.5, max_value=295.0, value=100.0)\n",
    "    diaBP = st.slider(\"select Diastolic Blood Pressure\", min_value=48.0, max_value=142.5, value=100.0)\n",
    "    BMI = st.slider(\"select Body Mass Index\", min_value=15.54, max_value=45.8, value=30.0)\n",
    "    heartRate=st.slider(\"select heartRate pressure\" , min_value=44 , max_value=115  , value=60)\n",
    "    glucose=st.slider(\"select heartRate pressure\" , min_value=40 , max_value=394  , value=200)\n",
    "    BP_Cat=st.selectbox(\"select Blood Pressure \",options=['Normal', 'High (Hypertension Stage 1)','High (Hypertension Stage 2)', 'Elevated',\n",
    "           'Hypertensive Crisis (Seek Medical Attention)',\n",
    "           'Low (Hypotension)'])\n",
    "    BMI_category=st.selectbox(\"select BMI_category\",options=['Overweight', 'Normal Weight', 'Obese (Class 1)',\n",
    "           'Obese (Class 2)', 'Obese (Class 3)', 'Underweight'])\n",
    "    heartRate_cat=st.selectbox(\"select heartRate_cat\",options=['Normal', 'Bradycardia (Low)', 'Tachycardia (High)'])\n",
    "    glucose_cat=st.selectbox(\"select glucose_cat\",options=['Normal', 'Prediabetes', 'Diabetes'])\n",
    "    totChol_cat=st.selectbox(\"select totChol_cat\",options=['Desirable', 'High', 'BorderLine'])\n",
    "    return pd.DataFrame(    [[male,\n",
    "                              age,\n",
    "                              education,\n",
    "                              currentSmoker,\n",
    "                              cigsPerDay,\n",
    "                              BPMeds,\n",
    "                              prevalentStroke,\n",
    "                              prevalentHyp,\n",
    "                              diabetes,\n",
    "                              totChol,\n",
    "                              sysBP,\n",
    "                              diaBP,\n",
    "                              BMI,\n",
    "                              heartRate,\n",
    "                             glucose,\n",
    "                              BP_Cat,\n",
    "                              BMI_category,\n",
    "                              heartRate_cat,\n",
    "                              glucose_cat,\n",
    "                              totChol_cat]],columns=joblib.load(\"features.h5\"))\n",
    "test=get_input()\n",
    "st.dataframe(test)\n",
    "model = joblib.load(\"best_logreg.h5\")\n",
    "st.write(\"You may be at risk of heart disease. Please undergo the necessary medical check-ups.\"if model.predict(test)==1 else \n",
    "\"You are currently not at risk of developing heart disease. No further medical examinations are required at this time.\")"
   ]
  },
  {
   "cell_type": "code",
   "execution_count": 63,
   "id": "c30c7916-4819-43ba-be29-3b9d81e412fb",
   "metadata": {},
   "outputs": [
    {
     "name": "stdout",
     "output_type": "stream",
     "text": [
      "^C\n"
     ]
    }
   ],
   "source": [
    "! streamlit run loan_app.py"
   ]
  },
  {
   "cell_type": "code",
   "execution_count": null,
   "id": "20e5212c-3b9c-4089-95cf-8efee304e83e",
   "metadata": {},
   "outputs": [],
   "source": []
  }
 ],
 "metadata": {
  "kernelspec": {
   "display_name": "Python 3 (ipykernel)",
   "language": "python",
   "name": "python3"
  },
  "language_info": {
   "codemirror_mode": {
    "name": "ipython",
    "version": 3
   },
   "file_extension": ".py",
   "mimetype": "text/x-python",
   "name": "python",
   "nbconvert_exporter": "python",
   "pygments_lexer": "ipython3",
   "version": "3.12.4"
  }
 },
 "nbformat": 4,
 "nbformat_minor": 5
}
